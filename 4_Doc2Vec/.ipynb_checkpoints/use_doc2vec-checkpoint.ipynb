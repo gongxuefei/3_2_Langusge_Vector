{
 "cells": [
  {
   "cell_type": "code",
   "execution_count": 16,
   "metadata": {},
   "outputs": [],
   "source": [
    "import sys\n",
    "import gensim\n",
    "import sklearn\n",
    "import numpy as np\n",
    "import jieba\n",
    "from numpy import linalg as la\n",
    "from operator import itemgetter, attrgetter\n",
    "\n",
    "from gensim.models.doc2vec import Doc2Vec, LabeledSentence\n",
    "jieba.load_userdict(\"/opt/gongxf/python3_pj/Robot/original_data/finWordDict.txt\")\n",
    "#all_text_path='/DATA/1_DataCache/FinCorpus/all_data_pure.csv'\n",
    "text_path='data/Knowledge_0816.txt'\n",
    "\n",
    "TaggededDocument = gensim.models.doc2vec.TaggedDocument"
   ]
  },
  {
   "cell_type": "code",
   "execution_count": 18,
   "metadata": {},
   "outputs": [],
   "source": [
    "def stop_words():\n",
    "    stop_words = []\n",
    "    with open('/opt/gongxf/python3_pj/Robot/original_data/stop_words.txt', \"r\", encoding=\"UTF-8\") as f:\n",
    "        line = f.readline()\n",
    "        while line:\n",
    "            stop_words.append(line[:-1])\n",
    "            line = f.readline()\n",
    "    return stop_words\n",
    "#停用词字典列表\n",
    "stopwords_list=stop_words()"
   ]
  },
  {
   "cell_type": "code",
   "execution_count": 19,
   "metadata": {},
   "outputs": [],
   "source": [
    "def cos(vector1,vector2):\n",
    "    inA=np.mat(vector1)\n",
    "    inB=np.mat(vector2)\n",
    "    num=float(inA*inB.T)\n",
    "    denom=la.norm(inA)*la.norm(inB)\n",
    "    return num/denom\n",
    "\n",
    "def test(text):\n",
    "    Robot_Know_list=[]\n",
    "    Robot_Know=[]\n",
    "    for line in open(\"data/Robot_Knowledge.txt\"):\n",
    "        line=line.replace('\\n', '')\n",
    "        Robot_Know.append(line)\n",
    "        cut_list=list(jieba.cut(line, cut_all=False))\n",
    "        cut_list=[word for word in cut_list if word not in stopwords_list]\n",
    "        print(\"cut_list\",cut_list)\n",
    "        Robot_Know_list.append(cut_list)\n",
    "    # print(Robot_Know)\n",
    "    model_dm = Doc2Vec.load(\"model/Knowledge_cbow_816\")\n",
    "    # test=\"零钱宝钱不能全额转出\"\n",
    "    test_text=list(jieba.cut(text, cut_all=False))\n",
    "    test_text = [word for word in test_text if word not in stopwords_list]\n",
    "    print(\"test_text\",test_text)\n",
    "    inferred_vector_dm = model_dm.infer_vector(test_text)\n",
    "    # print(\"inferred_vector_dm:\",inferred_vector_dm)\n",
    "    sims=[]\n",
    "    for i in range(len(Robot_Know_list)):\n",
    "        # print(\"i:\",i, model_dm.docvecs[i])\n",
    "        sim_cos=cos(inferred_vector_dm, model_dm.infer_vector(Robot_Know_list[i]))\n",
    "        # print(\"sim_cos\",sim_cos)\n",
    "        # sim_cos=cos(inferred_vector_dm, model_dm.docvecs[i])\n",
    "        i_sims=(i,sim_cos)\n",
    "        sims.append(i_sims)\n",
    "    return sorted(sims,key=itemgetter(1),reverse=True),Robot_Know"
   ]
  },
  {
   "cell_type": "code",
   "execution_count": 20,
   "metadata": {},
   "outputs": [],
   "source": [
    "model_dm = Doc2Vec.load(\"model/Knowledge_cbow_816\")"
   ]
  },
  {
   "cell_type": "code",
   "execution_count": 22,
   "metadata": {},
   "outputs": [
    {
     "data": {
      "text/plain": [
       "23443"
      ]
     },
     "execution_count": 22,
     "metadata": {},
     "output_type": "execute_result"
    }
   ],
   "source": [
    "len(model_dm.wv.vocab.keys())"
   ]
  },
  {
   "cell_type": "code",
   "execution_count": 156,
   "metadata": {},
   "outputs": [],
   "source": [
    "test1=['任性付','能','做什么']"
   ]
  },
  {
   "cell_type": "code",
   "execution_count": 157,
   "metadata": {},
   "outputs": [],
   "source": [
    "model_dm.random.seed(0)\n",
    "test1_vec = model_dm.infer_vector(test1)"
   ]
  },
  {
   "cell_type": "code",
   "execution_count": 158,
   "metadata": {},
   "outputs": [],
   "source": [
    "test2=['任性付','做什么']"
   ]
  },
  {
   "cell_type": "code",
   "execution_count": 159,
   "metadata": {},
   "outputs": [],
   "source": [
    "model_dm.random.seed(0)\n",
    "test2_vec = model_dm.infer_vector(test2)"
   ]
  },
  {
   "cell_type": "code",
   "execution_count": 160,
   "metadata": {},
   "outputs": [
    {
     "data": {
      "text/plain": [
       "-0.06358224954976352"
      ]
     },
     "execution_count": 160,
     "metadata": {},
     "output_type": "execute_result"
    }
   ],
   "source": [
    "cos(test1_vec,test2_vec)"
   ]
  },
  {
   "cell_type": "code",
   "execution_count": null,
   "metadata": {},
   "outputs": [],
   "source": [
    "############测试句向量#############"
   ]
  },
  {
   "cell_type": "code",
   "execution_count": 85,
   "metadata": {},
   "outputs": [
    {
     "data": {
      "text/plain": [
       "[(9111599, 0.4992491602897644),\n",
       " (6929971, 0.49525412917137146),\n",
       " (14269634, 0.48103779554367065),\n",
       " (16022877, 0.4781634211540222),\n",
       " (15581399, 0.47590160369873047),\n",
       " (8791574, 0.4750460684299469),\n",
       " (9831155, 0.472919762134552),\n",
       " (12128883, 0.470881849527359),\n",
       " (7959930, 0.46909695863723755),\n",
       " (3497264, 0.4670306444168091)]"
      ]
     },
     "execution_count": 85,
     "metadata": {},
     "output_type": "execute_result"
    }
   ],
   "source": [
    "model_dm.docvecs.most_similar(0)\n",
    "# 与标签 0 最相似的"
   ]
  },
  {
   "cell_type": "code",
   "execution_count": 87,
   "metadata": {},
   "outputs": [
    {
     "data": {
      "text/plain": [
       "0.1051263916111607"
      ]
     },
     "execution_count": 87,
     "metadata": {},
     "output_type": "execute_result"
    }
   ],
   "source": [
    "# 进行相关性比较\n",
    "model_dm.docvecs.similarity(5,14)"
   ]
  },
  {
   "cell_type": "code",
   "execution_count": 89,
   "metadata": {},
   "outputs": [
    {
     "data": {
      "text/plain": [
       "array([-3.0951833e-03,  1.5276237e-03,  2.0082393e-03,  2.3579439e-03,\n",
       "       -1.9938492e-03,  1.7846903e-03,  6.2075659e-04,  8.6450571e-04,\n",
       "       -1.0271537e-03, -1.3210746e-03,  7.6261238e-04,  7.5810147e-04,\n",
       "        6.7501934e-04,  2.5151276e-03, -3.4025090e-03,  3.2642002e-03,\n",
       "       -2.2190886e-03, -6.7328010e-04, -3.3653440e-04,  3.2800577e-05,\n",
       "       -4.1570654e-03,  4.8684329e-03, -3.0662115e-03, -1.1371628e-03,\n",
       "        3.4858894e-03, -7.0462073e-04,  4.3861791e-03,  2.7320653e-03,\n",
       "       -3.1478406e-04, -8.4500894e-04, -3.1896972e-03, -2.8362211e-03,\n",
       "        2.0366488e-03, -4.0488122e-03, -2.8304423e-03, -2.4233665e-03,\n",
       "        3.0562223e-03,  1.3021494e-03,  3.5032767e-04, -2.7304071e-03,\n",
       "        2.6580205e-04,  4.6726312e-03,  1.7796060e-03,  1.6458770e-03,\n",
       "        5.9886414e-05, -3.6133155e-03, -1.1239605e-03,  1.3682179e-03,\n",
       "       -1.4067483e-03, -5.9424900e-04, -3.1894189e-04, -3.3996443e-03,\n",
       "        1.1423350e-03, -3.1066863e-03, -3.6608020e-03,  4.4544218e-03,\n",
       "       -1.0882175e-04, -3.1979714e-04,  1.5003820e-03,  2.9113106e-03,\n",
       "        3.1023445e-03, -2.6762898e-03, -1.5629972e-03, -1.6462135e-03,\n",
       "        3.1513008e-03, -9.7479473e-04,  1.2357660e-03,  4.5717028e-03,\n",
       "        1.0142889e-03,  3.0342236e-03, -3.5510720e-03,  1.1483933e-04,\n",
       "       -4.0412503e-03, -2.3818840e-03, -2.4984719e-03,  4.0550563e-03,\n",
       "        3.4808256e-03,  4.9265143e-03,  2.8190552e-03, -4.2369426e-03,\n",
       "        1.5909772e-04,  2.6080508e-03, -3.9433572e-03,  2.7093296e-03,\n",
       "       -2.3434402e-03, -4.5444709e-04,  7.4817031e-04,  3.2216965e-03,\n",
       "        1.3686559e-03, -4.6232218e-04, -3.6043334e-03,  2.2789224e-03,\n",
       "       -1.7174771e-03, -4.7410345e-03,  2.6764055e-03,  2.2875799e-03,\n",
       "       -2.1947073e-03,  6.9831329e-04,  1.4963952e-03, -2.8847980e-03],\n",
       "      dtype=float32)"
      ]
     },
     "execution_count": 89,
     "metadata": {},
     "output_type": "execute_result"
    }
   ],
   "source": [
    "# 输出标签为 1 句子的向量\n",
    "model_dm.docvecs[1]"
   ]
  },
  {
   "cell_type": "code",
   "execution_count": null,
   "metadata": {},
   "outputs": [],
   "source": []
  }
 ],
 "metadata": {
  "kernelspec": {
   "display_name": "Python 3",
   "language": "python",
   "name": "python3"
  },
  "language_info": {
   "codemirror_mode": {
    "name": "ipython",
    "version": 3
   },
   "file_extension": ".py",
   "mimetype": "text/x-python",
   "name": "python",
   "nbconvert_exporter": "python",
   "pygments_lexer": "ipython3",
   "version": "3.6.4"
  }
 },
 "nbformat": 4,
 "nbformat_minor": 2
}
